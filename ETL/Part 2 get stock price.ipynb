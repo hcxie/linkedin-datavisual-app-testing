{
 "cells": [
  {
   "cell_type": "code",
   "execution_count": 67,
   "metadata": {},
   "outputs": [],
   "source": [
    "import pandas_datareader.data as web\n",
    "import matplotlib as mpl\n",
    "import matplotlib.pyplot as plt\n",
    "import numpy as np\n",
    "import pandas as pd\n",
    "import seaborn as sns\n",
    "import datetime as dt\n",
    "from sklearn.preprocessing import StandardScaler"
   ]
  },
  {
   "cell_type": "code",
   "execution_count": 68,
   "metadata": {},
   "outputs": [],
   "source": [
    "def process_stock_data(df,df_linkedin):\n",
    "    df_stock=df\n",
    "    #rename the columns name\n",
    "    df_stock.columns = ['high','low','open','close','volume_stock','adj_close_stock']\n",
    "    # add volatility (high-low)/adj_close_stock\n",
    "    df_stock['hiLo_vola_stock'] = (df_stock['high'] - df_stock['low']) / df_stock['adj_close_stock'] * 100.0\n",
    "    # ad daily percentage change\n",
    "    df_stock['pct_change_stock'] = (df_stock['close'] - df_stock['open']) / df_stock['open'] * 100.0\n",
    "    \n",
    "    #scale the stock change\n",
    "    temp_stock = df_stock[['pct_change_stock']].values.astype(float)\n",
    "    scaler = StandardScaler().fit(temp_stock)\n",
    "    scaled_data = scaler.transform(temp_stock)\n",
    "    df_stock['pct_change_stock_scaled'] = scaled_data\n",
    "    \n",
    "    \n",
    "    \n",
    "    df_sector_linkedin=df_linkedin\n",
    "    df_sector_linkedin.set_index(pd.DatetimeIndex(df_sector_linkedin['as_of_date']),inplace=True)\n",
    "    df_sector_linkedin.drop(['as_of_date'],axis=1,inplace=True)\n",
    "    df_sector_linkedin_sum_df=pd.DataFrame(columns=['followers_count','employees_on_platform','company_count'])\n",
    "    df_sector_linkedin_sum_df['followers_count']=df_sector_linkedin.groupby('as_of_date').sum()['followers_count']\n",
    "    df_sector_linkedin_sum_df['employees_on_platform']=df_sector_linkedin.groupby('as_of_date').sum()['employees_on_platform']\n",
    "    df_sector_linkedin_sum_df['company_count']=df_sector_linkedin.groupby('as_of_date').count()['dataset_id']\n",
    "    df_sector_linkedin_sum_df['followers_count']=np.array(df_sector_linkedin_sum_df['followers_count'])/np.array(df_sector_linkedin_sum_df['company_count'])\n",
    "    df_sector_linkedin_sum_df['employees_on_platform']=np.array(df_sector_linkedin_sum_df['employees_on_platform'])/np.array(df_sector_linkedin_sum_df['company_count'])\n",
    "    \n",
    "    for i in range(0,df_sector_linkedin_sum_df.shape[0]):\n",
    "        if df_sector_linkedin_sum_df['company_count'][i]<df_sector_linkedin_sum_df['company_count'].mean():\n",
    "            df_sector_linkedin_sum_df['employees_on_platform'][i]=np.nan\n",
    "            df_sector_linkedin_sum_df['followers_count'][i]=np.nan\n",
    "\n",
    "    total_df=pd.concat([df_sector_linkedin_sum_df,df_stock],join='outer',axis=1)\n",
    "    \n",
    "    total_df[[ \"volume_stock\", \"adj_close_stock\", \"hiLo_vola_stock\", \"pct_change_stock\", \"pct_change_stock_scaled\"]] = \\\n",
    "        total_df[[ \"volume_stock\", \"adj_close_stock\", \"hiLo_vola_stock\", \"pct_change_stock\", \"pct_change_stock_scaled\"]] \\\n",
    "        .interpolate(method='linear', limit_direction='forward', axis=0)\n",
    "    \n",
    "    total_df[['employees_on_platform','followers_count']]=total_df[['employees_on_platform','followers_count']].interpolate(method='linear', limit_direction='both', axis=0)\n",
    "    \n",
    "    total_df.drop(columns=['company_count','high','low','open','close'],inplace=True)\n",
    "    \n",
    "    \n",
    "    return total_df\n",
    "\n"
   ]
  },
  {
   "cell_type": "code",
   "execution_count": 69,
   "metadata": {},
   "outputs": [],
   "source": [
    "def generate_stock_linkedin_data(sector_name,ETF_name):\n",
    "    sector_list={\n",
    "                1:'real_estate',#XLRE\n",
    "                2:'utilities',#XLU\n",
    "                3:'it',#XLK\n",
    "                4:'financial',#XLF\n",
    "                5:'healthcare',#XLV\n",
    "                6:'consumer_staples',#XLP\n",
    "                7:'consumer_discretionary',#XLY\n",
    "                8:'basic_material',#XLB\n",
    "                9:'energy',#XLE\n",
    "                10:'industrials'}#XLI\n",
    "    start = dt.datetime(2015, 9, 16)\n",
    "    end =  dt.datetime(2018, 7, 17)\n",
    "    df_stock_raw=web.DataReader(ETF_name, 'yahoo', start, end)\n",
    "    sector_file_name=sector_list[sector_name]+'_sector_df.csv'\n",
    "    df_sector_linkedin=pd.read_csv(sector_file_name)\n",
    "    output_df=process_stock_data(df_stock_raw,df_sector_linkedin)\n",
    "    output_df.dropna(axis=0,inplace=True)\n",
    "    output_df['date']=output_df.index\n",
    "    return output_df\n",
    "    "
   ]
  },
  {
   "cell_type": "code",
   "execution_count": 70,
   "metadata": {},
   "outputs": [
    {
     "name": "stderr",
     "output_type": "stream",
     "text": [
      "E:\\Users\\xbxb\\Anaconda3\\lib\\site-packages\\ipykernel_launcher.py:30: SettingWithCopyWarning: \n",
      "A value is trying to be set on a copy of a slice from a DataFrame\n",
      "\n",
      "See the caveats in the documentation: http://pandas.pydata.org/pandas-docs/stable/indexing.html#indexing-view-versus-copy\n",
      "E:\\Users\\xbxb\\Anaconda3\\lib\\site-packages\\ipykernel_launcher.py:31: SettingWithCopyWarning: \n",
      "A value is trying to be set on a copy of a slice from a DataFrame\n",
      "\n",
      "See the caveats in the documentation: http://pandas.pydata.org/pandas-docs/stable/indexing.html#indexing-view-versus-copy\n"
     ]
    }
   ],
   "source": [
    "real_estate_merge_df=generate_stock_linkedin_data(1,'XLRE')\n",
    "real_estate_merge_df.to_csv('real_estate_merge_df.csv',index=False)"
   ]
  },
  {
   "cell_type": "code",
   "execution_count": 71,
   "metadata": {},
   "outputs": [
    {
     "name": "stderr",
     "output_type": "stream",
     "text": [
      "E:\\Users\\xbxb\\Anaconda3\\lib\\site-packages\\ipykernel_launcher.py:30: SettingWithCopyWarning: \n",
      "A value is trying to be set on a copy of a slice from a DataFrame\n",
      "\n",
      "See the caveats in the documentation: http://pandas.pydata.org/pandas-docs/stable/indexing.html#indexing-view-versus-copy\n",
      "E:\\Users\\xbxb\\Anaconda3\\lib\\site-packages\\ipykernel_launcher.py:31: SettingWithCopyWarning: \n",
      "A value is trying to be set on a copy of a slice from a DataFrame\n",
      "\n",
      "See the caveats in the documentation: http://pandas.pydata.org/pandas-docs/stable/indexing.html#indexing-view-versus-copy\n"
     ]
    }
   ],
   "source": [
    "utilities_merge_df=generate_stock_linkedin_data(2,'XLU')\n",
    "utilities_merge_df.to_csv('utilities_merge_df.csv',index=False)"
   ]
  },
  {
   "cell_type": "code",
   "execution_count": 72,
   "metadata": {},
   "outputs": [
    {
     "name": "stderr",
     "output_type": "stream",
     "text": [
      "E:\\Users\\xbxb\\Anaconda3\\lib\\site-packages\\ipykernel_launcher.py:30: SettingWithCopyWarning: \n",
      "A value is trying to be set on a copy of a slice from a DataFrame\n",
      "\n",
      "See the caveats in the documentation: http://pandas.pydata.org/pandas-docs/stable/indexing.html#indexing-view-versus-copy\n",
      "E:\\Users\\xbxb\\Anaconda3\\lib\\site-packages\\ipykernel_launcher.py:31: SettingWithCopyWarning: \n",
      "A value is trying to be set on a copy of a slice from a DataFrame\n",
      "\n",
      "See the caveats in the documentation: http://pandas.pydata.org/pandas-docs/stable/indexing.html#indexing-view-versus-copy\n"
     ]
    }
   ],
   "source": [
    "it_merge_df=generate_stock_linkedin_data(3,'XLK')\n",
    "it_merge_df.to_csv('it_merge_df.csv',index=False)"
   ]
  },
  {
   "cell_type": "code",
   "execution_count": 73,
   "metadata": {},
   "outputs": [
    {
     "name": "stderr",
     "output_type": "stream",
     "text": [
      "E:\\Users\\xbxb\\Anaconda3\\lib\\site-packages\\ipykernel_launcher.py:30: SettingWithCopyWarning: \n",
      "A value is trying to be set on a copy of a slice from a DataFrame\n",
      "\n",
      "See the caveats in the documentation: http://pandas.pydata.org/pandas-docs/stable/indexing.html#indexing-view-versus-copy\n",
      "E:\\Users\\xbxb\\Anaconda3\\lib\\site-packages\\ipykernel_launcher.py:31: SettingWithCopyWarning: \n",
      "A value is trying to be set on a copy of a slice from a DataFrame\n",
      "\n",
      "See the caveats in the documentation: http://pandas.pydata.org/pandas-docs/stable/indexing.html#indexing-view-versus-copy\n"
     ]
    }
   ],
   "source": [
    "financial_merge_df=generate_stock_linkedin_data(4,'XLF')\n",
    "financial_merge_df.to_csv('financial_merge_df.csv',index=False)"
   ]
  },
  {
   "cell_type": "code",
   "execution_count": 74,
   "metadata": {},
   "outputs": [
    {
     "name": "stderr",
     "output_type": "stream",
     "text": [
      "E:\\Users\\xbxb\\Anaconda3\\lib\\site-packages\\ipykernel_launcher.py:30: SettingWithCopyWarning: \n",
      "A value is trying to be set on a copy of a slice from a DataFrame\n",
      "\n",
      "See the caveats in the documentation: http://pandas.pydata.org/pandas-docs/stable/indexing.html#indexing-view-versus-copy\n",
      "E:\\Users\\xbxb\\Anaconda3\\lib\\site-packages\\ipykernel_launcher.py:31: SettingWithCopyWarning: \n",
      "A value is trying to be set on a copy of a slice from a DataFrame\n",
      "\n",
      "See the caveats in the documentation: http://pandas.pydata.org/pandas-docs/stable/indexing.html#indexing-view-versus-copy\n"
     ]
    }
   ],
   "source": [
    "healthcare_merge_df=generate_stock_linkedin_data(5,'XLV')\n",
    "healthcare_merge_df.to_csv('healthcare_merge_df.csv',index=False)"
   ]
  },
  {
   "cell_type": "code",
   "execution_count": 75,
   "metadata": {},
   "outputs": [
    {
     "name": "stderr",
     "output_type": "stream",
     "text": [
      "E:\\Users\\xbxb\\Anaconda3\\lib\\site-packages\\ipykernel_launcher.py:30: SettingWithCopyWarning: \n",
      "A value is trying to be set on a copy of a slice from a DataFrame\n",
      "\n",
      "See the caveats in the documentation: http://pandas.pydata.org/pandas-docs/stable/indexing.html#indexing-view-versus-copy\n",
      "E:\\Users\\xbxb\\Anaconda3\\lib\\site-packages\\ipykernel_launcher.py:31: SettingWithCopyWarning: \n",
      "A value is trying to be set on a copy of a slice from a DataFrame\n",
      "\n",
      "See the caveats in the documentation: http://pandas.pydata.org/pandas-docs/stable/indexing.html#indexing-view-versus-copy\n"
     ]
    }
   ],
   "source": [
    "consumer_staples_merge_df=generate_stock_linkedin_data(6,'XLP')\n",
    "consumer_staples_merge_df.to_csv('consumer_staples_merge_df.csv',index=False)"
   ]
  },
  {
   "cell_type": "code",
   "execution_count": 76,
   "metadata": {},
   "outputs": [
    {
     "name": "stderr",
     "output_type": "stream",
     "text": [
      "E:\\Users\\xbxb\\Anaconda3\\lib\\site-packages\\ipykernel_launcher.py:30: SettingWithCopyWarning: \n",
      "A value is trying to be set on a copy of a slice from a DataFrame\n",
      "\n",
      "See the caveats in the documentation: http://pandas.pydata.org/pandas-docs/stable/indexing.html#indexing-view-versus-copy\n",
      "E:\\Users\\xbxb\\Anaconda3\\lib\\site-packages\\ipykernel_launcher.py:31: SettingWithCopyWarning: \n",
      "A value is trying to be set on a copy of a slice from a DataFrame\n",
      "\n",
      "See the caveats in the documentation: http://pandas.pydata.org/pandas-docs/stable/indexing.html#indexing-view-versus-copy\n"
     ]
    }
   ],
   "source": [
    "consumer_discretionary_merge_df=generate_stock_linkedin_data(7,'XLY')\n",
    "consumer_discretionary_merge_df.to_csv('consumer_discretionary_merge_df.csv',index=False)"
   ]
  },
  {
   "cell_type": "code",
   "execution_count": 77,
   "metadata": {},
   "outputs": [
    {
     "name": "stderr",
     "output_type": "stream",
     "text": [
      "E:\\Users\\xbxb\\Anaconda3\\lib\\site-packages\\ipykernel_launcher.py:30: SettingWithCopyWarning: \n",
      "A value is trying to be set on a copy of a slice from a DataFrame\n",
      "\n",
      "See the caveats in the documentation: http://pandas.pydata.org/pandas-docs/stable/indexing.html#indexing-view-versus-copy\n",
      "E:\\Users\\xbxb\\Anaconda3\\lib\\site-packages\\ipykernel_launcher.py:31: SettingWithCopyWarning: \n",
      "A value is trying to be set on a copy of a slice from a DataFrame\n",
      "\n",
      "See the caveats in the documentation: http://pandas.pydata.org/pandas-docs/stable/indexing.html#indexing-view-versus-copy\n"
     ]
    }
   ],
   "source": [
    "basic_material_merge_df=generate_stock_linkedin_data(8,'XLB')\n",
    "basic_material_merge_df.to_csv('basic_material_merge_df.csv',index=False)"
   ]
  },
  {
   "cell_type": "markdown",
   "metadata": {},
   "source": [
    "energy_merge_df=generate_stock_linkedin_data(9,'XLE')\n",
    "energy_merge_df.to_csv('energy_merge_df.csv',index=False)\n",
    "industrials_merge_df=generate_stock_linkedin_data(10,'XLI')\n",
    "industrials_merge_df.to_csv('industrials_merge_df.csv',index=False)"
   ]
  },
  {
   "cell_type": "code",
   "execution_count": 51,
   "metadata": {},
   "outputs": [],
   "source": [
    "def read_merge_data(filename):\n",
    "    df=pd.read_csv(filename)\n",
    "    df.set_index(pd.DatetimeIndex(df['date']),inplace=True)\n",
    "    df['yearmonth']=pd.to_datetime(df['date'], format='%Y/%m').map(lambda x: str(x.year)+\"-\" + str(x.month))\n",
    "    df.drop(['date'],axis=1,inplace=True) \n",
    "    return df"
   ]
  },
  {
   "cell_type": "code",
   "execution_count": 57,
   "metadata": {},
   "outputs": [
    {
     "data": {
      "text/html": [
       "<div>\n",
       "<style scoped>\n",
       "    .dataframe tbody tr th:only-of-type {\n",
       "        vertical-align: middle;\n",
       "    }\n",
       "\n",
       "    .dataframe tbody tr th {\n",
       "        vertical-align: top;\n",
       "    }\n",
       "\n",
       "    .dataframe thead th {\n",
       "        text-align: right;\n",
       "    }\n",
       "</style>\n",
       "<table border=\"1\" class=\"dataframe\">\n",
       "  <thead>\n",
       "    <tr style=\"text-align: right;\">\n",
       "      <th></th>\n",
       "      <th>followers_count</th>\n",
       "      <th>employees_on_platform</th>\n",
       "      <th>volume_stock</th>\n",
       "      <th>adj_close_stock</th>\n",
       "      <th>hiLo_vola_stock</th>\n",
       "      <th>pct_change_stock</th>\n",
       "      <th>pct_change_stock_scaled</th>\n",
       "      <th>yearmonth</th>\n",
       "    </tr>\n",
       "    <tr>\n",
       "      <th>date</th>\n",
       "      <th></th>\n",
       "      <th></th>\n",
       "      <th></th>\n",
       "      <th></th>\n",
       "      <th></th>\n",
       "      <th></th>\n",
       "      <th></th>\n",
       "      <th></th>\n",
       "    </tr>\n",
       "  </thead>\n",
       "  <tbody>\n",
       "    <tr>\n",
       "      <th>2015-09-16</th>\n",
       "      <td>35355.190476</td>\n",
       "      <td>3717.47619</td>\n",
       "      <td>1.932090e+07</td>\n",
       "      <td>48.598972</td>\n",
       "      <td>1.152283</td>\n",
       "      <td>0.670888</td>\n",
       "      <td>0.850474</td>\n",
       "      <td>2015-9</td>\n",
       "    </tr>\n",
       "    <tr>\n",
       "      <th>2015-09-17</th>\n",
       "      <td>35355.190476</td>\n",
       "      <td>3717.47619</td>\n",
       "      <td>1.897740e+07</td>\n",
       "      <td>48.376884</td>\n",
       "      <td>1.984417</td>\n",
       "      <td>-0.324122</td>\n",
       "      <td>-0.511142</td>\n",
       "      <td>2015-9</td>\n",
       "    </tr>\n",
       "    <tr>\n",
       "      <th>2015-09-18</th>\n",
       "      <td>35355.190476</td>\n",
       "      <td>3717.47619</td>\n",
       "      <td>2.016960e+07</td>\n",
       "      <td>47.317154</td>\n",
       "      <td>1.479381</td>\n",
       "      <td>-0.683457</td>\n",
       "      <td>-1.002872</td>\n",
       "      <td>2015-9</td>\n",
       "    </tr>\n",
       "    <tr>\n",
       "      <th>2015-09-19</th>\n",
       "      <td>35355.190476</td>\n",
       "      <td>3717.47619</td>\n",
       "      <td>1.684813e+07</td>\n",
       "      <td>47.394683</td>\n",
       "      <td>1.392847</td>\n",
       "      <td>-0.475192</td>\n",
       "      <td>-0.717872</td>\n",
       "      <td>2015-9</td>\n",
       "    </tr>\n",
       "    <tr>\n",
       "      <th>2015-09-20</th>\n",
       "      <td>35355.190476</td>\n",
       "      <td>3717.47619</td>\n",
       "      <td>1.352667e+07</td>\n",
       "      <td>47.472211</td>\n",
       "      <td>1.306313</td>\n",
       "      <td>-0.266926</td>\n",
       "      <td>-0.432872</td>\n",
       "      <td>2015-9</td>\n",
       "    </tr>\n",
       "  </tbody>\n",
       "</table>\n",
       "</div>"
      ],
      "text/plain": [
       "            followers_count  employees_on_platform  volume_stock  \\\n",
       "date                                                               \n",
       "2015-09-16     35355.190476             3717.47619  1.932090e+07   \n",
       "2015-09-17     35355.190476             3717.47619  1.897740e+07   \n",
       "2015-09-18     35355.190476             3717.47619  2.016960e+07   \n",
       "2015-09-19     35355.190476             3717.47619  1.684813e+07   \n",
       "2015-09-20     35355.190476             3717.47619  1.352667e+07   \n",
       "\n",
       "            adj_close_stock  hiLo_vola_stock  pct_change_stock  \\\n",
       "date                                                             \n",
       "2015-09-16        48.598972         1.152283          0.670888   \n",
       "2015-09-17        48.376884         1.984417         -0.324122   \n",
       "2015-09-18        47.317154         1.479381         -0.683457   \n",
       "2015-09-19        47.394683         1.392847         -0.475192   \n",
       "2015-09-20        47.472211         1.306313         -0.266926   \n",
       "\n",
       "            pct_change_stock_scaled yearmonth  \n",
       "date                                           \n",
       "2015-09-16                 0.850474    2015-9  \n",
       "2015-09-17                -0.511142    2015-9  \n",
       "2015-09-18                -1.002872    2015-9  \n",
       "2015-09-19                -0.717872    2015-9  \n",
       "2015-09-20                -0.432872    2015-9  "
      ]
     },
     "execution_count": 57,
     "metadata": {},
     "output_type": "execute_result"
    }
   ],
   "source": [
    "tempdf=read_merge_data('industrials_merge_df.csv')\n",
    "tempdf.head()"
   ]
  },
  {
   "cell_type": "code",
   "execution_count": null,
   "metadata": {},
   "outputs": [],
   "source": []
  },
  {
   "cell_type": "code",
   "execution_count": null,
   "metadata": {},
   "outputs": [],
   "source": []
  },
  {
   "cell_type": "code",
   "execution_count": null,
   "metadata": {},
   "outputs": [],
   "source": []
  },
  {
   "cell_type": "code",
   "execution_count": null,
   "metadata": {},
   "outputs": [],
   "source": []
  },
  {
   "cell_type": "code",
   "execution_count": null,
   "metadata": {},
   "outputs": [],
   "source": []
  },
  {
   "cell_type": "code",
   "execution_count": null,
   "metadata": {},
   "outputs": [],
   "source": []
  },
  {
   "cell_type": "code",
   "execution_count": 19,
   "metadata": {},
   "outputs": [],
   "source": [
    "# max value in a 10 day windows\n",
    "df_stock['high'].shift(1).rolling(10).max();\n",
    "# resample the dataframe use month\n",
    "df_stock['high'].resample('M').min();"
   ]
  },
  {
   "cell_type": "code",
   "execution_count": null,
   "metadata": {},
   "outputs": [],
   "source": []
  }
 ],
 "metadata": {
  "kernelspec": {
   "display_name": "Python 3",
   "language": "python",
   "name": "python3"
  },
  "language_info": {
   "codemirror_mode": {
    "name": "ipython",
    "version": 3
   },
   "file_extension": ".py",
   "mimetype": "text/x-python",
   "name": "python",
   "nbconvert_exporter": "python",
   "pygments_lexer": "ipython3",
   "version": "3.7.0"
  }
 },
 "nbformat": 4,
 "nbformat_minor": 2
}
